{
 "cells": [
  {
   "cell_type": "code",
   "execution_count": 1,
   "id": "59fb60b3-fa9d-45c2-85d1-eb2557f8e2b3",
   "metadata": {},
   "outputs": [],
   "source": [
    "import pandas as pd\n",
    "import numpy as np"
   ]
  },
  {
   "cell_type": "code",
   "execution_count": 13,
   "id": "2c1126b6-d4c1-4f6c-b8a7-466d076208ce",
   "metadata": {},
   "outputs": [
    {
     "data": {
      "text/html": [
       "<div>\n",
       "<style scoped>\n",
       "    .dataframe tbody tr th:only-of-type {\n",
       "        vertical-align: middle;\n",
       "    }\n",
       "\n",
       "    .dataframe tbody tr th {\n",
       "        vertical-align: top;\n",
       "    }\n",
       "\n",
       "    .dataframe thead th {\n",
       "        text-align: right;\n",
       "    }\n",
       "</style>\n",
       "<table border=\"1\" class=\"dataframe\">\n",
       "  <thead>\n",
       "    <tr style=\"text-align: right;\">\n",
       "      <th></th>\n",
       "      <th>Mentee_id</th>\n",
       "      <th>Mentor_ID</th>\n",
       "      <th>Mentor_Name</th>\n",
       "      <th>Mentee_Name</th>\n",
       "      <th>Session_Number</th>\n",
       "      <th>Session_Duration_Min</th>\n",
       "      <th>Job_Info_Completed</th>\n",
       "      <th>Session_Date</th>\n",
       "      <th>Points_Awarded</th>\n",
       "    </tr>\n",
       "  </thead>\n",
       "  <tbody>\n",
       "    <tr>\n",
       "      <th>0</th>\n",
       "      <td>2001</td>\n",
       "      <td>1003</td>\n",
       "      <td>Sarah Clark</td>\n",
       "      <td>Bob Brown</td>\n",
       "      <td>1</td>\n",
       "      <td>40</td>\n",
       "      <td>Yes</td>\n",
       "      <td>2023-01-01</td>\n",
       "      <td>NaN</td>\n",
       "    </tr>\n",
       "    <tr>\n",
       "      <th>1</th>\n",
       "      <td>2002</td>\n",
       "      <td>1003</td>\n",
       "      <td>Emily Davis</td>\n",
       "      <td>Carol White</td>\n",
       "      <td>2</td>\n",
       "      <td>30</td>\n",
       "      <td>Yes</td>\n",
       "      <td>2023-01-08</td>\n",
       "      <td>NaN</td>\n",
       "    </tr>\n",
       "    <tr>\n",
       "      <th>2</th>\n",
       "      <td>2003</td>\n",
       "      <td>1005</td>\n",
       "      <td>James Wilson</td>\n",
       "      <td>Jane Smith</td>\n",
       "      <td>2</td>\n",
       "      <td>40</td>\n",
       "      <td>Yes</td>\n",
       "      <td>2023-01-15</td>\n",
       "      <td>NaN</td>\n",
       "    </tr>\n",
       "    <tr>\n",
       "      <th>3</th>\n",
       "      <td>2001</td>\n",
       "      <td>1004</td>\n",
       "      <td>Emily Davis</td>\n",
       "      <td>Bob Brown</td>\n",
       "      <td>1</td>\n",
       "      <td>30</td>\n",
       "      <td>No</td>\n",
       "      <td>2023-01-29</td>\n",
       "      <td>NaN</td>\n",
       "    </tr>\n",
       "    <tr>\n",
       "      <th>4</th>\n",
       "      <td>2003</td>\n",
       "      <td>1002</td>\n",
       "      <td>David Thompson</td>\n",
       "      <td>Jane Smith</td>\n",
       "      <td>2</td>\n",
       "      <td>50</td>\n",
       "      <td>No</td>\n",
       "      <td>2023-02-05</td>\n",
       "      <td>NaN</td>\n",
       "    </tr>\n",
       "  </tbody>\n",
       "</table>\n",
       "</div>"
      ],
      "text/plain": [
       "   Mentee_id  Mentor_ID     Mentor_Name  Mentee_Name  Session_Number  \\\n",
       "0       2001       1003     Sarah Clark    Bob Brown               1   \n",
       "1       2002       1003     Emily Davis  Carol White               2   \n",
       "2       2003       1005    James Wilson   Jane Smith               2   \n",
       "3       2001       1004     Emily Davis    Bob Brown               1   \n",
       "4       2003       1002  David Thompson   Jane Smith               2   \n",
       "\n",
       "   Session_Duration_Min Job_Info_Completed Session_Date  Points_Awarded  \n",
       "0                    40                Yes   2023-01-01             NaN  \n",
       "1                    30                Yes   2023-01-08             NaN  \n",
       "2                    40                Yes   2023-01-15             NaN  \n",
       "3                    30                 No   2023-01-29             NaN  \n",
       "4                    50                 No   2023-02-05             NaN  "
      ]
     },
     "execution_count": 13,
     "metadata": {},
     "output_type": "execute_result"
    }
   ],
   "source": [
    "#Reading the reward points\n",
    "file_path = r'C:\\Users\\zawadi\\OneDrive - Kim-Fay East Africa Ltd\\Documents\\Mentorship_Sessions_Clean_Data.csv'\n",
    "Mentorship_data = pd.read_csv(file_path)\n",
    "Mentorship_data.head()"
   ]
  },
  {
   "cell_type": "code",
   "execution_count": 15,
   "id": "187a4853-ba7b-495f-b9b4-814083e5e537",
   "metadata": {},
   "outputs": [],
   "source": [
    "## Assigning 250 points for each unique mentor who signed up\n",
    "Mentorship_data['signup_points'] = 0\n",
    "unique_mentors = Mentorship_data['Mentor_ID'].unique()\n",
    "mentor_points = pd.DataFrame(unique_mentors, columns=['Mentor_ID'])\n",
    "mentor_points['signup_points'] = 250  # One-time points for signing u"
   ]
  },
  {
   "cell_type": "code",
   "execution_count": 17,
   "id": "015a4320-d4b6-4a1e-b7fd-e79887a534a4",
   "metadata": {},
   "outputs": [
    {
     "data": {
      "text/html": [
       "<div>\n",
       "<style scoped>\n",
       "    .dataframe tbody tr th:only-of-type {\n",
       "        vertical-align: middle;\n",
       "    }\n",
       "\n",
       "    .dataframe tbody tr th {\n",
       "        vertical-align: top;\n",
       "    }\n",
       "\n",
       "    .dataframe thead th {\n",
       "        text-align: right;\n",
       "    }\n",
       "</style>\n",
       "<table border=\"1\" class=\"dataframe\">\n",
       "  <thead>\n",
       "    <tr style=\"text-align: right;\">\n",
       "      <th></th>\n",
       "      <th>Mentee_id</th>\n",
       "      <th>Mentor_ID</th>\n",
       "      <th>Mentor_Name</th>\n",
       "      <th>Mentee_Name</th>\n",
       "      <th>Session_Number</th>\n",
       "      <th>Session_Duration_Min</th>\n",
       "      <th>Job_Info_Completed</th>\n",
       "      <th>Session_Date</th>\n",
       "      <th>Points_Awarded</th>\n",
       "      <th>signup_points</th>\n",
       "    </tr>\n",
       "  </thead>\n",
       "  <tbody>\n",
       "    <tr>\n",
       "      <th>0</th>\n",
       "      <td>2001</td>\n",
       "      <td>1003</td>\n",
       "      <td>Sarah Clark</td>\n",
       "      <td>Bob Brown</td>\n",
       "      <td>1</td>\n",
       "      <td>40</td>\n",
       "      <td>Yes</td>\n",
       "      <td>2023-01-01</td>\n",
       "      <td>NaN</td>\n",
       "      <td>0</td>\n",
       "    </tr>\n",
       "    <tr>\n",
       "      <th>1</th>\n",
       "      <td>2002</td>\n",
       "      <td>1003</td>\n",
       "      <td>Emily Davis</td>\n",
       "      <td>Carol White</td>\n",
       "      <td>2</td>\n",
       "      <td>30</td>\n",
       "      <td>Yes</td>\n",
       "      <td>2023-01-08</td>\n",
       "      <td>NaN</td>\n",
       "      <td>0</td>\n",
       "    </tr>\n",
       "    <tr>\n",
       "      <th>2</th>\n",
       "      <td>2003</td>\n",
       "      <td>1005</td>\n",
       "      <td>James Wilson</td>\n",
       "      <td>Jane Smith</td>\n",
       "      <td>2</td>\n",
       "      <td>40</td>\n",
       "      <td>Yes</td>\n",
       "      <td>2023-01-15</td>\n",
       "      <td>NaN</td>\n",
       "      <td>0</td>\n",
       "    </tr>\n",
       "    <tr>\n",
       "      <th>3</th>\n",
       "      <td>2001</td>\n",
       "      <td>1004</td>\n",
       "      <td>Emily Davis</td>\n",
       "      <td>Bob Brown</td>\n",
       "      <td>1</td>\n",
       "      <td>30</td>\n",
       "      <td>No</td>\n",
       "      <td>2023-01-29</td>\n",
       "      <td>NaN</td>\n",
       "      <td>0</td>\n",
       "    </tr>\n",
       "    <tr>\n",
       "      <th>4</th>\n",
       "      <td>2003</td>\n",
       "      <td>1002</td>\n",
       "      <td>David Thompson</td>\n",
       "      <td>Jane Smith</td>\n",
       "      <td>2</td>\n",
       "      <td>50</td>\n",
       "      <td>No</td>\n",
       "      <td>2023-02-05</td>\n",
       "      <td>NaN</td>\n",
       "      <td>0</td>\n",
       "    </tr>\n",
       "  </tbody>\n",
       "</table>\n",
       "</div>"
      ],
      "text/plain": [
       "   Mentee_id  Mentor_ID     Mentor_Name  Mentee_Name  Session_Number  \\\n",
       "0       2001       1003     Sarah Clark    Bob Brown               1   \n",
       "1       2002       1003     Emily Davis  Carol White               2   \n",
       "2       2003       1005    James Wilson   Jane Smith               2   \n",
       "3       2001       1004     Emily Davis    Bob Brown               1   \n",
       "4       2003       1002  David Thompson   Jane Smith               2   \n",
       "\n",
       "   Session_Duration_Min Job_Info_Completed Session_Date  Points_Awarded  \\\n",
       "0                    40                Yes   2023-01-01             NaN   \n",
       "1                    30                Yes   2023-01-08             NaN   \n",
       "2                    40                Yes   2023-01-15             NaN   \n",
       "3                    30                 No   2023-01-29             NaN   \n",
       "4                    50                 No   2023-02-05             NaN   \n",
       "\n",
       "   signup_points  \n",
       "0              0  \n",
       "1              0  \n",
       "2              0  \n",
       "3              0  \n",
       "4              0  "
      ]
     },
     "execution_count": 17,
     "metadata": {},
     "output_type": "execute_result"
    }
   ],
   "source": [
    "Mentorship_data.head()"
   ]
  },
  {
   "cell_type": "code",
   "execution_count": 19,
   "id": "284363b9-6e16-4ade-95dd-35e8e8fa164f",
   "metadata": {},
   "outputs": [
    {
     "data": {
      "text/plain": [
       "0    250\n",
       "1    250\n",
       "2    250\n",
       "3    250\n",
       "4    250\n",
       "Name: signup_points, dtype: int64"
      ]
     },
     "execution_count": 19,
     "metadata": {},
     "output_type": "execute_result"
    }
   ],
   "source": [
    "mentor_points['signup_points']"
   ]
  },
  {
   "cell_type": "code",
   "execution_count": 27,
   "id": "338f6cdd-6e30-46d8-8fe5-42746aa27366",
   "metadata": {},
   "outputs": [],
   "source": [
    "#Allocating points for Mentorship with Two Different Mentees\n",
    "## Checking if a mentor has mentored at least two different mentees\n",
    "mentees_per_mentor = Mentorship_data.groupby('Mentor_ID')['Mentee_id'].nunique().reset_index()\n",
    "mentees_per_mentor.columns = ['Mentor_ID', 'num_of_mentees']\n",
    "\n",
    "# Allocate 1000 points if they have 2 different mentees\n",
    "mentees_per_mentor['mentee_points'] = np.where(mentees_per_mentor['num_of_mentees'] >= 2, 1000, 0)\n",
    "\n"
   ]
  },
  {
   "cell_type": "code",
   "execution_count": 31,
   "id": "212e51ab-5663-41f9-9ec3-c8cde962a198",
   "metadata": {},
   "outputs": [
    {
     "data": {
      "text/plain": [
       "0    1000\n",
       "1    1000\n",
       "2    1000\n",
       "3    1000\n",
       "4    1000\n",
       "Name: mentee_points, dtype: int32"
      ]
     },
     "execution_count": 31,
     "metadata": {},
     "output_type": "execute_result"
    }
   ],
   "source": [
    "mentees_per_mentor['mentee_points']"
   ]
  },
  {
   "cell_type": "code",
   "execution_count": 39,
   "id": "74686390-08fa-4541-a600-ad88116d344c",
   "metadata": {},
   "outputs": [],
   "source": [
    "Mentorship_data.columns = Mentorship_data.columns.str.strip()"
   ]
  },
  {
   "cell_type": "code",
   "execution_count": 41,
   "id": "cf93fa6c-fe70-4daa-ad55-147f1b19abb8",
   "metadata": {},
   "outputs": [
    {
     "data": {
      "text/plain": [
       "Index(['Mentee_id', 'Mentor_ID', 'Mentor_Name', 'Mentee_Name',\n",
       "       'Session_Number', 'Session_Duration_Min', 'Job_Info_Completed',\n",
       "       'Session_Date', 'Points_Awarded', 'signup_points', 'session_points'],\n",
       "      dtype='object')"
      ]
     },
     "execution_count": 41,
     "metadata": {},
     "output_type": "execute_result"
    }
   ],
   "source": [
    "Mentorship_data.columns"
   ]
  },
  {
   "cell_type": "code",
   "execution_count": 45,
   "id": "465331ae-6fec-4870-9839-7562d90f567d",
   "metadata": {},
   "outputs": [],
   "source": [
    "#Allocating points for Mentorship Relationships (500 Points)\n",
    "# Calculate points per mentor-mentee pair\n",
    "Mentorship_data['session_points'] = np.where(Mentorship_data['Session_Duration_Min'] >= 30, 250, 0)  # 250 points per session if 30+ mins"
   ]
  },
  {
   "cell_type": "code",
   "execution_count": 48,
   "id": "4ea0fd9c-57f8-4104-a643-03a15083979d",
   "metadata": {},
   "outputs": [],
   "source": [
    "# Group by mentor and mentee to find the number of sessions and the sum of session points\n",
    "relationship_points = Mentorship_data.groupby(['Mentor_ID', 'Mentee_id']).agg(\n",
    "    num_sessions=('Session_Duration_Min', 'count'),\n",
    "    total_session_points=('session_points', 'sum'),\n",
    "    job_info_completed=('Job_Info_Completed', 'max')  # Check if at least one session had job info completed\n",
    ").reset_index()\n"
   ]
  },
  {
   "cell_type": "code",
   "execution_count": 82,
   "id": "7667739c-e419-425f-b1c6-905de8b5d630",
   "metadata": {},
   "outputs": [],
   "source": [
    "# Allocate maximum 500 points if two sessions are conducted with the same mentee and job info is completed\n",
    "relationship_points['relationship_points'] = np.where(\n",
    "    (relationship_points['num_sessions'] >= 2) & (relationship_points['job_info_completed'] == True), \n",
    "    500, relationship_points['total_session_points']\n",
    ")"
   ]
  },
  {
   "cell_type": "code",
   "execution_count": 84,
   "id": "4f3ce88b-fc39-4803-b076-ccefe8662997",
   "metadata": {},
   "outputs": [
    {
     "name": "stdout",
     "output_type": "stream",
     "text": [
      "   Mentor_ID  signup_points  mentee_points  relationship_points  total_points\n",
      "0       1003            250           1000                 3500          4750\n",
      "1       1005            250           1000                 5250          6500\n",
      "2       1004            250           1000                 4750          6000\n",
      "3       1002            250           1000                 2250          3500\n",
      "4       1001            250           1000                 2750          4000\n"
     ]
    }
   ],
   "source": [
    "#Combining the results\n",
    "# Merge mentor signup points\n",
    "final_points = pd.merge(mentor_points[['Mentor_ID', 'signup_points']], mentees_per_mentor[['Mentor_ID', 'mentee_points']], on='Mentor_ID', how='left')\n",
    "\n",
    "# Sum the relationship points per mentor\n",
    "relationship_points_summary = relationship_points.groupby('Mentor_ID')['relationship_points'].sum().reset_index()\n",
    "\n",
    "# Merge relationship points with the final DataFrame\n",
    "final_points = pd.merge(final_points, relationship_points_summary[['Mentor_ID', 'relationship_points']], on='Mentor_ID', how='left')\n",
    "\n",
    "# Fill NaN values with 0 (in case any mentor has no relationship points)\n",
    "final_points = final_points.fillna(0)\n",
    "\n",
    "# Calculate the total points for each mentor\n",
    "final_points['total_points'] = final_points['signup_points'] + final_points['mentee_points'] + final_points['relationship_points']\n",
    "\n",
    "print(final_points)\n"
   ]
  },
  {
   "cell_type": "code",
   "execution_count": null,
   "id": "3f5ee390-c3dc-4dcd-a8c6-6fd6be0857b8",
   "metadata": {},
   "outputs": [],
   "source": []
  }
 ],
 "metadata": {
  "kernelspec": {
   "display_name": "Python 3 (ipykernel)",
   "language": "python",
   "name": "python3"
  },
  "language_info": {
   "codemirror_mode": {
    "name": "ipython",
    "version": 3
   },
   "file_extension": ".py",
   "mimetype": "text/x-python",
   "name": "python",
   "nbconvert_exporter": "python",
   "pygments_lexer": "ipython3",
   "version": "3.11.5"
  }
 },
 "nbformat": 4,
 "nbformat_minor": 5
}
